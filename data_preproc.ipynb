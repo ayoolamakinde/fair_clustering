{
 "cells": [
  {
   "cell_type": "code",
   "execution_count": 1,
   "metadata": {},
   "outputs": [],
   "source": [
    "import numpy as np\n",
    "import pandas as pd\n",
    "from sklearn.decomposition import PCA\n",
    "#path to ICS Wadi Dataset\n",
    "#wadi = 'Dataset/ICS/WADI/Physical_WADI.npy'\n",
    "\n",
    "#path to ICS Betadal dataset\n",
    "#bataDal = 'Dataset/ICS/BATADAL/Physical_BATADAL.npy'\n",
    "#path to ICS Betadal Column Names\n",
    "#columnBata = \"Dataset/ICS/BATADAL/Column Names.txt\"\n",
    "\n",
    "#path to ICS Wadi Column Names\n",
    "#columnWadi = \"Dataset/ICS/WADI/Column Names.txt\"\n",
    "\n",
    "#method load datasets from path\n",
    "def getdata(name,path):\n",
    "    filename=path\n",
    "    data=np.load(filename)\n",
    "    print('Dataset ', name ,' Loaded')\n",
    "    datalen=len(data[0])\n",
    "    y=data[:,datalen-1]\n",
    "    X=data[:,0:datalen-2]\n",
    "    return np.c_[X, y]\n",
    "\n"
   ]
  },
  {
   "cell_type": "code",
   "execution_count": 2,
   "metadata": {},
   "outputs": [],
   "source": [
    "#use PCA to get the best 10 features\n",
    "def get_PCA(data):\n",
    "    pca = PCA(n_components=10)\n",
    "    pca.fit(data)\n",
    "    return pca.transform(data)"
   ]
  },
  {
   "cell_type": "code",
   "execution_count": 3,
   "metadata": {},
   "outputs": [],
   "source": [
    "#load WADI ICS dataset\n",
    "#wadi_data = getdata(\"WADI\",wadi)\n",
    "\n",
    "#checks the number of datapoint and features+target for WADI ICS \n",
    "#wadi_data.shape"
   ]
  },
  {
   "cell_type": "code",
   "execution_count": 4,
   "metadata": {},
   "outputs": [],
   "source": [
    "#load BATADAL ICS dataset\n",
    "#batadal_data = getdata(\"BATADAL\",bataDal)\n",
    "\n",
    "#checks the number of datapoint and features+target for BATADAL ICS \n",
    "#batadal_data.shape"
   ]
  },
  {
   "cell_type": "code",
   "execution_count": null,
   "metadata": {},
   "outputs": [],
   "source": []
  },
  {
   "cell_type": "code",
   "execution_count": null,
   "metadata": {},
   "outputs": [],
   "source": []
  },
  {
   "cell_type": "code",
   "execution_count": 4,
   "metadata": {},
   "outputs": [],
   "source": [
    "def dataframeConvertion(data, columnName):    \n",
    "    list_column = []\n",
    "    with open(columnName) as f:\n",
    "        for line in f:\n",
    "            inner_list = [elt.strip() for elt in line.split(',')]\n",
    "            # in alternative, if you need to use the file content as numbers\n",
    "            # inner_list = [int(elt.strip()) for elt in line.split(',')]\n",
    "            list_column.append(inner_list)\n",
    "            \n",
    "    list_column = sum(list_column, [])\n",
    "    dataCo = pd.DataFrame(list(data), columns = list_column)\n",
    "\n",
    "    \n",
    "    return dataCo"
   ]
  },
  {
   "cell_type": "code",
   "execution_count": null,
   "metadata": {},
   "outputs": [],
   "source": []
  },
  {
   "cell_type": "code",
   "execution_count": null,
   "metadata": {},
   "outputs": [],
   "source": []
  },
  {
   "cell_type": "code",
   "execution_count": 6,
   "metadata": {},
   "outputs": [],
   "source": [
    "#coverts the BATADAL dataset features array to a dataframe and preview\n",
    "#batadal_d = dataframeConvertion(batadal_data,columnBata)\n",
    "#batadal_d.sample(5)"
   ]
  },
  {
   "cell_type": "code",
   "execution_count": null,
   "metadata": {},
   "outputs": [],
   "source": []
  },
  {
   "cell_type": "code",
   "execution_count": null,
   "metadata": {},
   "outputs": [],
   "source": []
  },
  {
   "cell_type": "code",
   "execution_count": 7,
   "metadata": {},
   "outputs": [],
   "source": [
    "#coverts the WADI dataset features array to a dataframe and preview\n",
    "#wadi_d = dataframeConvertion(wadi_data, columnWadi)\n",
    "#wadi_d.sample(5)"
   ]
  },
  {
   "cell_type": "code",
   "execution_count": 5,
   "metadata": {},
   "outputs": [],
   "source": [
    "#change Inactive to 0 and active to 1\n",
    "def InActprocessing(data):\n",
    "    data = data.replace(to_replace =\"Normal\",\n",
    "                 value = 0) \n",
    "    data = data.replace(to_replace =\"Attack\", \n",
    "                 value = 1) \n",
    "    \n",
    "    if 'DATETIME' in data.columns:\n",
    "        data = data.drop(['DATETIME'], axis=1)\n",
    "    \n",
    "    if 'DATE' in data.columns:\n",
    "        data = data.drop(['DATE'], axis=1)\n",
    "    \n",
    "    if 'TIME' in data.columns:\n",
    "        data = data.drop(['TIME'], axis=1)\n",
    "        \n",
    "    if 'Timestamp'in data.columns:\n",
    "        data = data.drop(['Timestamp'], axis=1)\n",
    "    \n",
    "    data = data.replace(to_replace =\"Active\", \n",
    "                 value = 1)\n",
    "    \n",
    "    data = data.replace(to_replace =\"Inactive\", \n",
    "                 value = 0)\n",
    "    \n",
    "    \n",
    "    return data"
   ]
  },
  {
   "cell_type": "code",
   "execution_count": null,
   "metadata": {},
   "outputs": [],
   "source": []
  },
  {
   "cell_type": "code",
   "execution_count": 9,
   "metadata": {},
   "outputs": [],
   "source": [
    "#batadal_d = InActprocessing(batadal_d)\n",
    "#batadal_d.sample(5)"
   ]
  },
  {
   "cell_type": "code",
   "execution_count": null,
   "metadata": {},
   "outputs": [],
   "source": []
  },
  {
   "cell_type": "code",
   "execution_count": 10,
   "metadata": {},
   "outputs": [],
   "source": [
    "#wadi_d = InActprocessing(wadi_d)\n",
    "#wadi_d.sample(5)"
   ]
  },
  {
   "cell_type": "code",
   "execution_count": null,
   "metadata": {},
   "outputs": [],
   "source": []
  },
  {
   "cell_type": "code",
   "execution_count": 11,
   "metadata": {
    "scrolled": true
   },
   "outputs": [],
   "source": [
    "#Use PCA to get the best 10 features from the SWAT_2015\n",
    "#data_bata = get_PCA(batadal_d)\n",
    "#data_bata = pd.DataFrame(data_bata)\n",
    "#print(data.singular_values_)\n",
    "#data_bata.sample(5)"
   ]
  },
  {
   "cell_type": "code",
   "execution_count": 12,
   "metadata": {},
   "outputs": [],
   "source": [
    "#Use PCA to get the best 10 features from the SWAT_2015\n",
    "#data_wad = get_PCA(wadi_d)\n",
    "#data_wad = pd.DataFrame(data_wad)\n",
    "#data_wad.sample(5)\n",
    "#print(data.singular_values_)"
   ]
  },
  {
   "cell_type": "code",
   "execution_count": 13,
   "metadata": {},
   "outputs": [],
   "source": [
    "#target = batadal_d [['ATT_FLAG']]\n",
    "#target.sample(5)"
   ]
  },
  {
   "cell_type": "code",
   "execution_count": 14,
   "metadata": {},
   "outputs": [],
   "source": [
    "#target = batadal_d [['ATT_FLAG']]\n",
    "#target.sample(5)"
   ]
  },
  {
   "cell_type": "code",
   "execution_count": 6,
   "metadata": {},
   "outputs": [],
   "source": [
    "#batadal_d = pd.concat([data_bata,target], axis = 1)\n",
    "#wadi_d = pd.concat([data_wad, target], axis = 1)\n",
    "#convert the datasets to csv for preprocessing \n",
    "\n",
    "#add the target to the first column to comply with the \n",
    "#requirement in the paper\n",
    "\n",
    "def addTarget(data):\n",
    "    cols = list(data.columns)\n",
    "    cols = [cols[-1]] + cols[:-1]\n",
    "    data = data[cols]\n",
    "    return data\n",
    "\n",
    "#batadal_d = addTarget(batadal_d)\n",
    "#batadal_d.reset_index(inplace=True)\n",
    "#batadal_d.drop(\"index\",axis=1,inplace=True)\n",
    "#batadal_d.to_csv(\"ics_batadal\", sep=',', index=False)\n",
    "#wadi_d.to_csv(\"ics_wadi\", sep=',')"
   ]
  },
  {
   "cell_type": "code",
   "execution_count": 16,
   "metadata": {},
   "outputs": [],
   "source": [
    "#batadal_d"
   ]
  },
  {
   "cell_type": "code",
   "execution_count": null,
   "metadata": {},
   "outputs": [],
   "source": []
  },
  {
   "cell_type": "code",
   "execution_count": null,
   "metadata": {},
   "outputs": [],
   "source": []
  }
 ],
 "metadata": {
  "kernelspec": {
   "display_name": "Python 3",
   "language": "python",
   "name": "python3"
  },
  "language_info": {
   "codemirror_mode": {
    "name": "ipython",
    "version": 3
   },
   "file_extension": ".py",
   "mimetype": "text/x-python",
   "name": "python",
   "nbconvert_exporter": "python",
   "pygments_lexer": "ipython3",
   "version": "3.7.3"
  }
 },
 "nbformat": 4,
 "nbformat_minor": 2
}
