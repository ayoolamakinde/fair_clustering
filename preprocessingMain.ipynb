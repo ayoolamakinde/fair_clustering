{
 "cells": [
  {
   "cell_type": "code",
   "execution_count": 6,
   "metadata": {},
   "outputs": [
    {
     "name": "stdout",
     "output_type": "stream",
     "text": [
      "importing Jupyter notebook from data_preproc.ipynb\n",
      "Ayoola\n"
     ]
    }
   ],
   "source": [
    "import import_ipynb\n",
    "import data_preproc as dp\n",
    "import seaborn as sns\n",
    "import matplotlib.pyplot as plt\n",
    "import numpy as np\n",
    "import pandas as pd\n",
    "from numpy import loadtxt\n",
    "from sklearn.decomposition import PCA"
   ]
  },
  {
   "cell_type": "code",
   "execution_count": 7,
   "metadata": {},
   "outputs": [
    {
     "name": "stdout",
     "output_type": "stream",
     "text": [
      "Hello \n",
      " Welcome to our Data Preprocessing Platform. \n",
      " \n",
      " \n",
      "Select the data to process.\n",
      "Enter: \n",
      " \t 1 for BATADAL Dataset \n",
      " \t 2 for WADI Dataset \n",
      " \t 3 for SWAT_2015 Dataset \n",
      " \t 4 for SWAT_2019 Dataset\n",
      "\n",
      ": 3\n"
     ]
    }
   ],
   "source": [
    "print(\"Hello \\n Welcome to our Data Preprocessing Platform. \\n \\n \")\n",
    "print(\"Select the data to process.\")\n",
    "print(\"Enter: \\n \\t 1 for BATADAL Dataset \\n \\t 2\", \n",
    "      \"for WADI Dataset \\n \\t 3 for SWAT_2015 Dataset\", \n",
    "      \"\\n \\t 4 for SWAT_2019 Dataset\\n\")\n",
    "\n",
    "choice = int(input(\": \"))\n",
    "\n",
    "if choice == 1:\n",
    "    \n",
    "    #path to  BATADAL Dataset\n",
    "    pathtoData = ['Dataset/ICS/BATADAL/Physical_BATADAL.npy','BATADAL']\n",
    "\n",
    "    #path to BATADAL Column Names\n",
    "    columnData = \"Dataset/ICS/BATADAL/Column Names.txt\"\n",
    "    targetName = 'ATT_FLAG'\n",
    "\n",
    "elif choice == 2:\n",
    "    \n",
    "    #path to WADI Dataset \n",
    "    pathtoData = ['Dataset/ICS/WADI/Physical_WADI.npy','WADI']\n",
    "\n",
    "    #path to WADI Column Names\n",
    "    columnData = \"Dataset/ICS/WADI/Column Names.txt\"\n",
    "    targetName = 'TOTAL_CONS_REQUIRED_FLOW'\n",
    "    \n",
    "elif choice == 3:\n",
    "    #path to SWAT_2015 Dataset\n",
    "    pathtoData = ['Dataset/SWAT/SWAT_2015/Physical_SWAT_2015.npy','Physical_SWAT_2015']\n",
    "\n",
    "    #path to SWAT_2015 Column Names\n",
    "    columnData = \"Dataset/SWAT/SWAT_2015/Column Names.txt\"\n",
    "    targetName = 'Normal/Attack'\n",
    "    \n",
    "elif choice == 4: \n",
    "    #path to SWAT_2019 Dataset\n",
    "    pathtoData = ['Dataset/SWAT/SWAT_2019/Physical_SWAT_2019.npy','Physical_SWAT_2019']\n",
    "\n",
    "    #path to SWAT_2019 Column Names\n",
    "    columnData = \"Dataset/SWAT/SWAT_2019/Columns Name.txt\"\n",
    "    targetName = 'P603 Status'\n",
    "    \n",
    "else:\n",
    "    print(\"Invalid Data Selection\")"
   ]
  },
  {
   "cell_type": "code",
   "execution_count": 8,
   "metadata": {},
   "outputs": [
    {
     "data": {
      "text/plain": [
       "'Dataset/SWAT/SWAT_2015/Physical_SWAT_2015.npy'"
      ]
     },
     "execution_count": 8,
     "metadata": {},
     "output_type": "execute_result"
    }
   ],
   "source": [
    "pathtoData[0]"
   ]
  },
  {
   "cell_type": "code",
   "execution_count": null,
   "metadata": {},
   "outputs": [
    {
     "name": "stdout",
     "output_type": "stream",
     "text": [
      "Dataset  Physical_SWAT_2015  Loaded\n"
     ]
    },
    {
     "data": {
      "text/plain": [
       "(1441716, 52)"
      ]
     },
     "execution_count": 11,
     "metadata": {},
     "output_type": "execute_result"
    }
   ],
   "source": [
    "#load dataset\n",
    "loaded_Data = dp.getdata(pathtoData[1],pathtoData[0])\n",
    "\n",
    "#checks the number of datapoint and features+target\n",
    "loaded_Data.shape"
   ]
  },
  {
   "cell_type": "code",
   "execution_count": 10,
   "metadata": {
    "scrolled": true
   },
   "outputs": [
    {
     "data": {
      "text/html": [
       "<div>\n",
       "<style scoped>\n",
       "    .dataframe tbody tr th:only-of-type {\n",
       "        vertical-align: middle;\n",
       "    }\n",
       "\n",
       "    .dataframe tbody tr th {\n",
       "        vertical-align: top;\n",
       "    }\n",
       "\n",
       "    .dataframe thead th {\n",
       "        text-align: right;\n",
       "    }\n",
       "</style>\n",
       "<table border=\"1\" class=\"dataframe\">\n",
       "  <thead>\n",
       "    <tr style=\"text-align: right;\">\n",
       "      <th></th>\n",
       "      <th>FIT101</th>\n",
       "      <th>LIT101</th>\n",
       "      <th>MV101</th>\n",
       "      <th>P101</th>\n",
       "      <th>P102</th>\n",
       "      <th>AIT201</th>\n",
       "      <th>AIT202</th>\n",
       "      <th>AIT203</th>\n",
       "      <th>FIT201</th>\n",
       "      <th>MV201</th>\n",
       "      <th>...</th>\n",
       "      <th>P501</th>\n",
       "      <th>P502</th>\n",
       "      <th>PIT501</th>\n",
       "      <th>PIT502</th>\n",
       "      <th>PIT503</th>\n",
       "      <th>FIT601</th>\n",
       "      <th>P601</th>\n",
       "      <th>P602</th>\n",
       "      <th>P603</th>\n",
       "      <th>Normal/Attack</th>\n",
       "    </tr>\n",
       "  </thead>\n",
       "  <tbody>\n",
       "    <tr>\n",
       "      <th>1106341</th>\n",
       "      <td>24/12/2015 12:50:25 PM</td>\n",
       "      <td>0.000000</td>\n",
       "      <td>666.3156</td>\n",
       "      <td>1.0</td>\n",
       "      <td>2.0</td>\n",
       "      <td>1.0</td>\n",
       "      <td>268.2646</td>\n",
       "      <td>8.351897</td>\n",
       "      <td>339.4258</td>\n",
       "      <td>2.461667</td>\n",
       "      <td>...</td>\n",
       "      <td>0.308362</td>\n",
       "      <td>2.0</td>\n",
       "      <td>1.0</td>\n",
       "      <td>256.9213</td>\n",
       "      <td>1.489764</td>\n",
       "      <td>195.3826</td>\n",
       "      <td>0.000128</td>\n",
       "      <td>1.0</td>\n",
       "      <td>1.0</td>\n",
       "      <td>Normal</td>\n",
       "    </tr>\n",
       "    <tr>\n",
       "      <th>700394</th>\n",
       "      <td>25/12/2015 1:34:37 PM</td>\n",
       "      <td>2.654133</td>\n",
       "      <td>525.3982</td>\n",
       "      <td>2.0</td>\n",
       "      <td>2.0</td>\n",
       "      <td>1.0</td>\n",
       "      <td>266.1818</td>\n",
       "      <td>8.358306</td>\n",
       "      <td>326.2497</td>\n",
       "      <td>2.455515</td>\n",
       "      <td>...</td>\n",
       "      <td>0.308619</td>\n",
       "      <td>2.0</td>\n",
       "      <td>1.0</td>\n",
       "      <td>250.8011</td>\n",
       "      <td>1.185403</td>\n",
       "      <td>190.2076</td>\n",
       "      <td>0.000000</td>\n",
       "      <td>1.0</td>\n",
       "      <td>1.0</td>\n",
       "      <td>Normal</td>\n",
       "    </tr>\n",
       "    <tr>\n",
       "      <th>1366454</th>\n",
       "      <td>27/12/2015 1:05:38 PM</td>\n",
       "      <td>2.497838</td>\n",
       "      <td>536.5067</td>\n",
       "      <td>2.0</td>\n",
       "      <td>2.0</td>\n",
       "      <td>1.0</td>\n",
       "      <td>266.1818</td>\n",
       "      <td>8.364715</td>\n",
       "      <td>327.1469</td>\n",
       "      <td>2.427835</td>\n",
       "      <td>...</td>\n",
       "      <td>0.306569</td>\n",
       "      <td>2.0</td>\n",
       "      <td>1.0</td>\n",
       "      <td>248.2216</td>\n",
       "      <td>1.025214</td>\n",
       "      <td>187.5320</td>\n",
       "      <td>0.000000</td>\n",
       "      <td>1.0</td>\n",
       "      <td>1.0</td>\n",
       "      <td>Normal</td>\n",
       "    </tr>\n",
       "    <tr>\n",
       "      <th>131839</th>\n",
       "      <td>29/12/2015 10:37:20 PM</td>\n",
       "      <td>2.503923</td>\n",
       "      <td>560.8826</td>\n",
       "      <td>2.0</td>\n",
       "      <td>1.0</td>\n",
       "      <td>1.0</td>\n",
       "      <td>239.4258</td>\n",
       "      <td>8.505704</td>\n",
       "      <td>319.5591</td>\n",
       "      <td>0.000000</td>\n",
       "      <td>...</td>\n",
       "      <td>0.306569</td>\n",
       "      <td>2.0</td>\n",
       "      <td>1.0</td>\n",
       "      <td>249.9039</td>\n",
       "      <td>0.961138</td>\n",
       "      <td>188.5254</td>\n",
       "      <td>0.000000</td>\n",
       "      <td>1.0</td>\n",
       "      <td>1.0</td>\n",
       "      <td>Normal</td>\n",
       "    </tr>\n",
       "    <tr>\n",
       "      <th>1339160</th>\n",
       "      <td>27/12/2015 5:30:44 AM</td>\n",
       "      <td>2.444992</td>\n",
       "      <td>495.2520</td>\n",
       "      <td>2.0</td>\n",
       "      <td>2.0</td>\n",
       "      <td>1.0</td>\n",
       "      <td>266.2458</td>\n",
       "      <td>8.378813</td>\n",
       "      <td>330.2999</td>\n",
       "      <td>2.444366</td>\n",
       "      <td>...</td>\n",
       "      <td>0.308298</td>\n",
       "      <td>2.0</td>\n",
       "      <td>1.0</td>\n",
       "      <td>250.9613</td>\n",
       "      <td>1.041233</td>\n",
       "      <td>189.7270</td>\n",
       "      <td>0.000000</td>\n",
       "      <td>1.0</td>\n",
       "      <td>1.0</td>\n",
       "      <td>Normal</td>\n",
       "    </tr>\n",
       "  </tbody>\n",
       "</table>\n",
       "<p>5 rows × 52 columns</p>\n",
       "</div>"
      ],
      "text/plain": [
       "                         FIT101    LIT101     MV101  P101  P102  AIT201  \\\n",
       "1106341  24/12/2015 12:50:25 PM  0.000000  666.3156   1.0   2.0     1.0   \n",
       "700394    25/12/2015 1:34:37 PM  2.654133  525.3982   2.0   2.0     1.0   \n",
       "1366454   27/12/2015 1:05:38 PM  2.497838  536.5067   2.0   2.0     1.0   \n",
       "131839   29/12/2015 10:37:20 PM  2.503923  560.8826   2.0   1.0     1.0   \n",
       "1339160   27/12/2015 5:30:44 AM  2.444992  495.2520   2.0   2.0     1.0   \n",
       "\n",
       "           AIT202    AIT203    FIT201     MV201  ...      P501  P502  PIT501  \\\n",
       "1106341  268.2646  8.351897  339.4258  2.461667  ...  0.308362   2.0     1.0   \n",
       "700394   266.1818  8.358306  326.2497  2.455515  ...  0.308619   2.0     1.0   \n",
       "1366454  266.1818  8.364715  327.1469  2.427835  ...  0.306569   2.0     1.0   \n",
       "131839   239.4258  8.505704  319.5591  0.000000  ...  0.306569   2.0     1.0   \n",
       "1339160  266.2458  8.378813  330.2999  2.444366  ...  0.308298   2.0     1.0   \n",
       "\n",
       "           PIT502    PIT503    FIT601      P601  P602  P603  Normal/Attack  \n",
       "1106341  256.9213  1.489764  195.3826  0.000128   1.0   1.0         Normal  \n",
       "700394   250.8011  1.185403  190.2076  0.000000   1.0   1.0         Normal  \n",
       "1366454  248.2216  1.025214  187.5320  0.000000   1.0   1.0         Normal  \n",
       "131839   249.9039  0.961138  188.5254  0.000000   1.0   1.0         Normal  \n",
       "1339160  250.9613  1.041233  189.7270  0.000000   1.0   1.0         Normal  \n",
       "\n",
       "[5 rows x 52 columns]"
      ]
     },
     "execution_count": 10,
     "metadata": {},
     "output_type": "execute_result"
    }
   ],
   "source": [
    "#coverts the dataset features array to a dataframe and preview\n",
    "df = dp.dataframeConvertion(loaded_Data,columnData)\n",
    "df.sample(5)"
   ]
  },
  {
   "cell_type": "code",
   "execution_count": null,
   "metadata": {},
   "outputs": [],
   "source": [
    "#Data preprocessing\n",
    "df= dp.InActprocessing(df)\n",
    "target = df [[targetName]]\n",
    "df.sample(5)"
   ]
  },
  {
   "cell_type": "code",
   "execution_count": null,
   "metadata": {},
   "outputs": [],
   "source": [
    "#Use PCA to get the best 10 features from the SWAT_2015\n",
    "df_processed = dp.get_PCA(df)\n",
    "df_processed = pd.DataFrame(df_processed)"
   ]
  },
  {
   "cell_type": "code",
   "execution_count": null,
   "metadata": {},
   "outputs": [],
   "source": [
    "#Add the target and move it to the front of the dataset as \n",
    "#per the requirement of the fair_clustering algorithm used\n",
    "#df_processed = df\n",
    "df_processed = pd.concat([df_processed,target], axis = 1)\n",
    "df_processed = dp.addTarget(df_processed)\n",
    "\n",
    "#remove index\n",
    "df_processed.reset_index(inplace=True)\n",
    "df_processed.drop(\"index\",axis=1,inplace=True)\n",
    "\n",
    "#convert file to csv\n",
    "df_processed.to_csv(pathtoData[1], sep=',', index=False)\n",
    "\n",
    "print(pathtoData[1], \"exported to csv successfully\")"
   ]
  },
  {
   "cell_type": "code",
   "execution_count": null,
   "metadata": {},
   "outputs": [],
   "source": []
  }
 ],
 "metadata": {
  "kernelspec": {
   "display_name": "Python 3",
   "language": "python",
   "name": "python3"
  },
  "language_info": {
   "codemirror_mode": {
    "name": "ipython",
    "version": 3
   },
   "file_extension": ".py",
   "mimetype": "text/x-python",
   "name": "python",
   "nbconvert_exporter": "python",
   "pygments_lexer": "ipython3",
   "version": "3.7.3"
  }
 },
 "nbformat": 4,
 "nbformat_minor": 2
}
